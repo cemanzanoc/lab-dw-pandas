{
 "cells": [
  {
   "cell_type": "markdown",
   "id": "25d7736c-ba17-4aff-b6bb-66eba20fbf4e",
   "metadata": {},
   "source": [
    "# Lab | Pandas"
   ]
  },
  {
   "cell_type": "markdown",
   "id": "d1973e9e-8be6-4039-b70e-d73ee0d94c99",
   "metadata": {},
   "source": [
    "In this lab, we will be working with the customer data from an insurance company, which can be found in the CSV file located at the following link: https://raw.githubusercontent.com/data-bootcamp-v4/data/main/file1.csv\n",
    "\n",
    "The data includes information such as customer ID, state, gender, education, income, and other variables that can be used to perform various analyses.\n",
    "\n",
    "Throughout the lab, we will be using the pandas library in Python to manipulate and analyze the data. Pandas is a powerful library that provides various data manipulation and analysis tools, including the ability to load and manipulate data from a variety of sources, including CSV files."
   ]
  },
  {
   "cell_type": "markdown",
   "id": "8045146f-f4f7-44d9-8cd9-130d6400c73a",
   "metadata": {},
   "source": [
    "### Data Description\n",
    "\n",
    "- Customer - Customer ID\n",
    "\n",
    "- ST - State where customers live\n",
    "\n",
    "- Gender - Gender of the customer\n",
    "\n",
    "- Education - Background education of customers \n",
    "\n",
    "- Customer Lifetime Value - Customer lifetime value(CLV) is the total revenue the client will derive from their entire relationship with a customer. In other words, is the predicted or calculated value of a customer over their entire duration as a policyholder with the insurance company. It is an estimation of the net profit that the insurance company expects to generate from a customer throughout their relationship with the company. Customer Lifetime Value takes into account factors such as the duration of the customer's policy, premium payments, claim history, renewal likelihood, and potential additional services or products the customer may purchase. It helps insurers assess the long-term profitability and value associated with retaining a particular customer.\n",
    "\n",
    "- Income - Customers income\n",
    "\n",
    "- Monthly Premium Auto - Amount of money the customer pays on a monthly basis as a premium for their auto insurance coverage. It represents the recurring cost that the insured person must pay to maintain their insurance policy and receive coverage for potential damages, accidents, or other covered events related to their vehicle.\n",
    "\n",
    "- Number of Open Complaints - Number of complaints the customer opened\n",
    "\n",
    "- Policy Type - There are three type of policies in car insurance (Corporate Auto, Personal Auto, and Special Auto)\n",
    "\n",
    "- Vehicle Class - Type of vehicle classes that customers have Two-Door Car, Four-Door Car SUV, Luxury SUV, Sports Car, and Luxury Car\n",
    "\n",
    "- Total Claim Amount - the sum of all claims made by the customer. It represents the total monetary value of all approved claims for incidents such as accidents, theft, vandalism, or other covered events.\n"
   ]
  },
  {
   "cell_type": "markdown",
   "id": "3a72419b-20fc-4905-817a-8c83abc59de6",
   "metadata": {},
   "source": [
    "External Resources: https://towardsdatascience.com/filtering-data-frames-in-pandas-b570b1f834b9"
   ]
  },
  {
   "cell_type": "markdown",
   "id": "8f8ece17-e919-4e23-96c0-c7c59778436a",
   "metadata": {},
   "source": [
    "## Challenge 1: Understanding the data\n",
    "\n",
    "In this challenge, you will use pandas to explore a given dataset. Your task is to gain a deep understanding of the data by analyzing its characteristics, dimensions, and statistical properties."
   ]
  },
  {
   "cell_type": "markdown",
   "id": "91437bd5-59a6-49c0-8150-ef0e6e6eb253",
   "metadata": {},
   "source": [
    "- Identify the dimensions of the dataset by determining the number of rows and columns it contains.\n",
    "- Determine the data types of each column and evaluate whether they are appropriate for the nature of the variable. You should also provide suggestions for fixing any incorrect data types.\n",
    "- Identify the number of unique values for each column and determine which columns appear to be categorical. You should also describe the unique values of each categorical column and the range of values for numerical columns, and give your insights.\n",
    "- Compute summary statistics such as mean, median, mode, standard deviation, and quartiles to understand the central tendency and distribution of the data for numerical columns. You should also provide your conclusions based on these summary statistics.\n",
    "- Compute summary statistics for categorical columns and providing your conclusions based on these statistics."
   ]
  },
  {
   "cell_type": "code",
   "execution_count": 21,
   "id": "58b552e7",
   "metadata": {},
   "outputs": [],
   "source": [
    "#Import libraries that will be working with\n",
    "import pandas as pd \n",
    "# Load dataset from an online source\n",
    "url = 'https://raw.githubusercontent.com/data-bootcamp-v4/data/main/file1.csv'\n",
    "df_insurance = pd.read_csv(url)"
   ]
  },
  {
   "cell_type": "code",
   "execution_count": 22,
   "id": "8d439018",
   "metadata": {},
   "outputs": [
    {
     "name": "stdout",
     "output_type": "stream",
     "text": [
      "Number of rows: 4008\n",
      "Number of columns: 11\n",
      "\n"
     ]
    },
    {
     "data": {
      "text/html": [
       "<div>\n",
       "<style scoped>\n",
       "    .dataframe tbody tr th:only-of-type {\n",
       "        vertical-align: middle;\n",
       "    }\n",
       "\n",
       "    .dataframe tbody tr th {\n",
       "        vertical-align: top;\n",
       "    }\n",
       "\n",
       "    .dataframe thead th {\n",
       "        text-align: right;\n",
       "    }\n",
       "</style>\n",
       "<table border=\"1\" class=\"dataframe\">\n",
       "  <thead>\n",
       "    <tr style=\"text-align: right;\">\n",
       "      <th></th>\n",
       "      <th>Customer</th>\n",
       "      <th>ST</th>\n",
       "      <th>GENDER</th>\n",
       "      <th>Education</th>\n",
       "      <th>Customer Lifetime Value</th>\n",
       "      <th>Income</th>\n",
       "      <th>Monthly Premium Auto</th>\n",
       "      <th>Number of Open Complaints</th>\n",
       "      <th>Policy Type</th>\n",
       "      <th>Vehicle Class</th>\n",
       "      <th>Total Claim Amount</th>\n",
       "    </tr>\n",
       "  </thead>\n",
       "  <tbody>\n",
       "    <tr>\n",
       "      <th>0</th>\n",
       "      <td>RB50392</td>\n",
       "      <td>Washington</td>\n",
       "      <td>NaN</td>\n",
       "      <td>Master</td>\n",
       "      <td>NaN</td>\n",
       "      <td>0.0</td>\n",
       "      <td>1000.0</td>\n",
       "      <td>1/0/00</td>\n",
       "      <td>Personal Auto</td>\n",
       "      <td>Four-Door Car</td>\n",
       "      <td>2.704934</td>\n",
       "    </tr>\n",
       "    <tr>\n",
       "      <th>1</th>\n",
       "      <td>QZ44356</td>\n",
       "      <td>Arizona</td>\n",
       "      <td>F</td>\n",
       "      <td>Bachelor</td>\n",
       "      <td>697953.59%</td>\n",
       "      <td>0.0</td>\n",
       "      <td>94.0</td>\n",
       "      <td>1/0/00</td>\n",
       "      <td>Personal Auto</td>\n",
       "      <td>Four-Door Car</td>\n",
       "      <td>1131.464935</td>\n",
       "    </tr>\n",
       "    <tr>\n",
       "      <th>2</th>\n",
       "      <td>AI49188</td>\n",
       "      <td>Nevada</td>\n",
       "      <td>F</td>\n",
       "      <td>Bachelor</td>\n",
       "      <td>1288743.17%</td>\n",
       "      <td>48767.0</td>\n",
       "      <td>108.0</td>\n",
       "      <td>1/0/00</td>\n",
       "      <td>Personal Auto</td>\n",
       "      <td>Two-Door Car</td>\n",
       "      <td>566.472247</td>\n",
       "    </tr>\n",
       "    <tr>\n",
       "      <th>3</th>\n",
       "      <td>WW63253</td>\n",
       "      <td>California</td>\n",
       "      <td>M</td>\n",
       "      <td>Bachelor</td>\n",
       "      <td>764586.18%</td>\n",
       "      <td>0.0</td>\n",
       "      <td>106.0</td>\n",
       "      <td>1/0/00</td>\n",
       "      <td>Corporate Auto</td>\n",
       "      <td>SUV</td>\n",
       "      <td>529.881344</td>\n",
       "    </tr>\n",
       "    <tr>\n",
       "      <th>4</th>\n",
       "      <td>GA49547</td>\n",
       "      <td>Washington</td>\n",
       "      <td>M</td>\n",
       "      <td>High School or Below</td>\n",
       "      <td>536307.65%</td>\n",
       "      <td>36357.0</td>\n",
       "      <td>68.0</td>\n",
       "      <td>1/0/00</td>\n",
       "      <td>Personal Auto</td>\n",
       "      <td>Four-Door Car</td>\n",
       "      <td>17.269323</td>\n",
       "    </tr>\n",
       "  </tbody>\n",
       "</table>\n",
       "</div>"
      ],
      "text/plain": [
       "  Customer          ST GENDER             Education Customer Lifetime Value  \\\n",
       "0  RB50392  Washington    NaN                Master                     NaN   \n",
       "1  QZ44356     Arizona      F              Bachelor              697953.59%   \n",
       "2  AI49188      Nevada      F              Bachelor             1288743.17%   \n",
       "3  WW63253  California      M              Bachelor              764586.18%   \n",
       "4  GA49547  Washington      M  High School or Below              536307.65%   \n",
       "\n",
       "    Income  Monthly Premium Auto Number of Open Complaints     Policy Type  \\\n",
       "0      0.0                1000.0                    1/0/00   Personal Auto   \n",
       "1      0.0                  94.0                    1/0/00   Personal Auto   \n",
       "2  48767.0                 108.0                    1/0/00   Personal Auto   \n",
       "3      0.0                 106.0                    1/0/00  Corporate Auto   \n",
       "4  36357.0                  68.0                    1/0/00   Personal Auto   \n",
       "\n",
       "   Vehicle Class  Total Claim Amount  \n",
       "0  Four-Door Car            2.704934  \n",
       "1  Four-Door Car         1131.464935  \n",
       "2   Two-Door Car          566.472247  \n",
       "3            SUV          529.881344  \n",
       "4  Four-Door Car           17.269323  "
      ]
     },
     "execution_count": 22,
     "metadata": {},
     "output_type": "execute_result"
    }
   ],
   "source": [
    "#Dimensions of dataset (4008,11)\n",
    "df_insurance.shape\n",
    "print(\"Number of rows:\", df_insurance.shape[0]) # Number of rows\n",
    "print(\"Number of columns:\", df_insurance.shape[1]) # Number of columns\n",
    "print()\n",
    "df_insurance.head()"
   ]
  },
  {
   "cell_type": "code",
   "execution_count": 23,
   "id": "260411b9",
   "metadata": {},
   "outputs": [
    {
     "data": {
      "text/html": [
       "<div>\n",
       "<style scoped>\n",
       "    .dataframe tbody tr th:only-of-type {\n",
       "        vertical-align: middle;\n",
       "    }\n",
       "\n",
       "    .dataframe tbody tr th {\n",
       "        vertical-align: top;\n",
       "    }\n",
       "\n",
       "    .dataframe thead th {\n",
       "        text-align: right;\n",
       "    }\n",
       "</style>\n",
       "<table border=\"1\" class=\"dataframe\">\n",
       "  <thead>\n",
       "    <tr style=\"text-align: right;\">\n",
       "      <th></th>\n",
       "      <th>Customer</th>\n",
       "      <th>ST</th>\n",
       "      <th>GENDER</th>\n",
       "      <th>Education</th>\n",
       "      <th>Customer Lifetime Value</th>\n",
       "      <th>Income</th>\n",
       "      <th>Monthly Premium Auto</th>\n",
       "      <th>Number of Open Complaints</th>\n",
       "      <th>Policy Type</th>\n",
       "      <th>Vehicle Class</th>\n",
       "      <th>Total Claim Amount</th>\n",
       "    </tr>\n",
       "  </thead>\n",
       "  <tbody>\n",
       "    <tr>\n",
       "      <th>4003</th>\n",
       "      <td>NaN</td>\n",
       "      <td>NaN</td>\n",
       "      <td>NaN</td>\n",
       "      <td>NaN</td>\n",
       "      <td>NaN</td>\n",
       "      <td>NaN</td>\n",
       "      <td>NaN</td>\n",
       "      <td>NaN</td>\n",
       "      <td>NaN</td>\n",
       "      <td>NaN</td>\n",
       "      <td>NaN</td>\n",
       "    </tr>\n",
       "    <tr>\n",
       "      <th>4004</th>\n",
       "      <td>NaN</td>\n",
       "      <td>NaN</td>\n",
       "      <td>NaN</td>\n",
       "      <td>NaN</td>\n",
       "      <td>NaN</td>\n",
       "      <td>NaN</td>\n",
       "      <td>NaN</td>\n",
       "      <td>NaN</td>\n",
       "      <td>NaN</td>\n",
       "      <td>NaN</td>\n",
       "      <td>NaN</td>\n",
       "    </tr>\n",
       "    <tr>\n",
       "      <th>4005</th>\n",
       "      <td>NaN</td>\n",
       "      <td>NaN</td>\n",
       "      <td>NaN</td>\n",
       "      <td>NaN</td>\n",
       "      <td>NaN</td>\n",
       "      <td>NaN</td>\n",
       "      <td>NaN</td>\n",
       "      <td>NaN</td>\n",
       "      <td>NaN</td>\n",
       "      <td>NaN</td>\n",
       "      <td>NaN</td>\n",
       "    </tr>\n",
       "    <tr>\n",
       "      <th>4006</th>\n",
       "      <td>NaN</td>\n",
       "      <td>NaN</td>\n",
       "      <td>NaN</td>\n",
       "      <td>NaN</td>\n",
       "      <td>NaN</td>\n",
       "      <td>NaN</td>\n",
       "      <td>NaN</td>\n",
       "      <td>NaN</td>\n",
       "      <td>NaN</td>\n",
       "      <td>NaN</td>\n",
       "      <td>NaN</td>\n",
       "    </tr>\n",
       "    <tr>\n",
       "      <th>4007</th>\n",
       "      <td>NaN</td>\n",
       "      <td>NaN</td>\n",
       "      <td>NaN</td>\n",
       "      <td>NaN</td>\n",
       "      <td>NaN</td>\n",
       "      <td>NaN</td>\n",
       "      <td>NaN</td>\n",
       "      <td>NaN</td>\n",
       "      <td>NaN</td>\n",
       "      <td>NaN</td>\n",
       "      <td>NaN</td>\n",
       "    </tr>\n",
       "  </tbody>\n",
       "</table>\n",
       "</div>"
      ],
      "text/plain": [
       "     Customer   ST GENDER Education Customer Lifetime Value  Income  \\\n",
       "4003      NaN  NaN    NaN       NaN                     NaN     NaN   \n",
       "4004      NaN  NaN    NaN       NaN                     NaN     NaN   \n",
       "4005      NaN  NaN    NaN       NaN                     NaN     NaN   \n",
       "4006      NaN  NaN    NaN       NaN                     NaN     NaN   \n",
       "4007      NaN  NaN    NaN       NaN                     NaN     NaN   \n",
       "\n",
       "      Monthly Premium Auto Number of Open Complaints Policy Type  \\\n",
       "4003                   NaN                       NaN         NaN   \n",
       "4004                   NaN                       NaN         NaN   \n",
       "4005                   NaN                       NaN         NaN   \n",
       "4006                   NaN                       NaN         NaN   \n",
       "4007                   NaN                       NaN         NaN   \n",
       "\n",
       "     Vehicle Class  Total Claim Amount  \n",
       "4003           NaN                 NaN  \n",
       "4004           NaN                 NaN  \n",
       "4005           NaN                 NaN  \n",
       "4006           NaN                 NaN  \n",
       "4007           NaN                 NaN  "
      ]
     },
     "execution_count": 23,
     "metadata": {},
     "output_type": "execute_result"
    }
   ],
   "source": [
    "df_insurance.tail()"
   ]
  },
  {
   "cell_type": "code",
   "execution_count": 24,
   "id": "ea2f8eff",
   "metadata": {},
   "outputs": [
    {
     "data": {
      "text/plain": [
       "Index(['Customer', 'ST', 'GENDER', 'Education', 'Customer Lifetime Value',\n",
       "       'Income', 'Monthly Premium Auto', 'Number of Open Complaints',\n",
       "       'Policy Type', 'Vehicle Class', 'Total Claim Amount'],\n",
       "      dtype='object')"
      ]
     },
     "execution_count": 24,
     "metadata": {},
     "output_type": "execute_result"
    }
   ],
   "source": [
    "#Determinate data types for each column \n",
    "df_insurance.columns\n"
   ]
  },
  {
   "cell_type": "code",
   "execution_count": 25,
   "id": "fac5e0bd",
   "metadata": {},
   "outputs": [
    {
     "name": "stdout",
     "output_type": "stream",
     "text": [
      "Customer                      object\n",
      "ST                            object\n",
      "GENDER                        object\n",
      "Education                     object\n",
      "Customer Lifetime Value       object\n",
      "Income                       float64\n",
      "Monthly Premium Auto         float64\n",
      "Number of Open Complaints     object\n",
      "Policy Type                   object\n",
      "Vehicle Class                 object\n",
      "Total Claim Amount           float64\n",
      "dtype: object\n"
     ]
    }
   ],
   "source": [
    "# Checking data types of each column\n",
    "print(df_insurance.dtypes)"
   ]
  },
  {
   "cell_type": "code",
   "execution_count": 26,
   "id": "b47e5fbf",
   "metadata": {},
   "outputs": [],
   "source": [
    "#Fixing incorrect data types\n",
    "df_insurance[\"Customer\"]=df_insurance[\"Customer\"].astype(\"category\") #Because this is more an ID\n"
   ]
  },
  {
   "cell_type": "code",
   "execution_count": 27,
   "id": "6cec7957",
   "metadata": {},
   "outputs": [],
   "source": [
    "df_insurance[\"Customer Lifetime Value\"]=df_insurance[\"Customer Lifetime Value\"].str.replace(\"%\",\"\").astype(float)"
   ]
  },
  {
   "cell_type": "code",
   "execution_count": 28,
   "id": "a218b3b2",
   "metadata": {},
   "outputs": [
    {
     "name": "stdout",
     "output_type": "stream",
     "text": [
      "Customer                     category\n",
      "ST                             object\n",
      "GENDER                         object\n",
      "Education                      object\n",
      "Customer Lifetime Value       float64\n",
      "Income                        float64\n",
      "Monthly Premium Auto          float64\n",
      "Number of Open Complaints      object\n",
      "Policy Type                    object\n",
      "Vehicle Class                  object\n",
      "Total Claim Amount            float64\n",
      "dtype: object\n"
     ]
    }
   ],
   "source": [
    "# Checking data types of each column\n",
    "print(df_insurance.dtypes)"
   ]
  },
  {
   "cell_type": "code",
   "execution_count": 29,
   "id": "11ae099d",
   "metadata": {},
   "outputs": [
    {
     "name": "stdout",
     "output_type": "stream",
     "text": [
      "Number of unique values:\n",
      "Customer                     1071\n",
      "ST                              8\n",
      "GENDER                          5\n",
      "Education                       6\n",
      "Customer Lifetime Value      1027\n",
      "Income                        774\n",
      "Monthly Premium Auto          132\n",
      "Number of Open Complaints       6\n",
      "Policy Type                     3\n",
      "Vehicle Class                   6\n",
      "Total Claim Amount            761\n",
      "dtype: int64\n",
      "\n"
     ]
    }
   ],
   "source": [
    "#Numbers for unique values of each columns\n",
    "print(\"Number of unique values:\")\n",
    "print(df_insurance.nunique())\n",
    "print()"
   ]
  },
  {
   "cell_type": "code",
   "execution_count": 30,
   "id": "25b47245",
   "metadata": {},
   "outputs": [
    {
     "name": "stdout",
     "output_type": "stream",
     "text": [
      "\n",
      "Categorical variables are: ST,GENDER, Education, Policy Type, Vehicle Class \n",
      " All variables are categorical nominal, except Education which is ordinal variables\n",
      "\n",
      " Values for ST:\n",
      "['Washington' 'Arizona' 'Nevada' 'California' 'Oregon' 'Cali' 'AZ' 'WA'\n",
      " nan]\n",
      "\n",
      "\n",
      " Values for GENDER:\n",
      "[nan 'F' 'M' 'Femal' 'Male' 'female']\n",
      "\n",
      "\n",
      " Values for Education:\n",
      "['Master' 'Bachelor' 'High School or Below' 'College' 'Bachelors' 'Doctor'\n",
      " nan]\n",
      "\n",
      "\n",
      " Values for Policy Type:\n",
      "['Personal Auto' 'Corporate Auto' 'Special Auto' nan]\n",
      "\n",
      "\n",
      " Values for Vehicle Class:\n",
      "['Four-Door Car' 'Two-Door Car' 'SUV' 'Luxury SUV' 'Sports Car'\n",
      " 'Luxury Car' nan]\n",
      "\n",
      "ST column-There are inconsistencies-should be standarized\n",
      "Gender column-There are inconsistencies-should be standarized\n",
      "Education column-Ordinal, also should be standarize education\n",
      "Policy Type column-There are missing values\n",
      "Vehicle Class-There are missing values\n"
     ]
    }
   ],
   "source": [
    "#Categorical data types\n",
    "Categorical_variables=[\"ST\",\"GENDER\", \"Education\", \"Policy Type\", \"Vehicle Class\"]\n",
    "print(\"\\nCategorical variables are: ST,GENDER, Education, Policy Type, Vehicle Class \\n All variables are categorical nominal, except Education which is ordinal variables\")\n",
    "for column in Categorical_variables :\n",
    "    print(f\"\\n Values for {column}:\")\n",
    "    print(df_insurance[column].unique())\n",
    "    print()\n",
    "\n",
    "print(\"ST column-There are inconsistencies-should be standarized\")\n",
    "print(\"Gender column-There are inconsistencies-should be standarized\")\n",
    "print(\"Education column-Ordinal, also should be standarize education\")\n",
    "print(\"Policy Type column-There are missing values\")\n",
    "print(\"Vehicle Class-There are missing values\")"
   ]
  },
  {
   "cell_type": "code",
   "execution_count": 31,
   "id": "30547436",
   "metadata": {},
   "outputs": [
    {
     "name": "stdout",
     "output_type": "stream",
     "text": [
      "Numerical variables SHOULD BE: \n",
      "Customer Lifetime Value,\n",
      "Income,\n",
      "Monthly Premium Auto,\n",
      "Number of Open Complaints,\n",
      "Total Claim Amount\n",
      "\n",
      "GOOD numerical variants for the moment: Income, Monthly Premium Auto,Total Claim Amount \n"
     ]
    },
    {
     "data": {
      "text/html": [
       "<div>\n",
       "<style scoped>\n",
       "    .dataframe tbody tr th:only-of-type {\n",
       "        vertical-align: middle;\n",
       "    }\n",
       "\n",
       "    .dataframe tbody tr th {\n",
       "        vertical-align: top;\n",
       "    }\n",
       "\n",
       "    .dataframe thead th {\n",
       "        text-align: right;\n",
       "    }\n",
       "</style>\n",
       "<table border=\"1\" class=\"dataframe\">\n",
       "  <thead>\n",
       "    <tr style=\"text-align: right;\">\n",
       "      <th></th>\n",
       "      <th>Customer Lifetime Value</th>\n",
       "      <th>Income</th>\n",
       "      <th>Monthly Premium Auto</th>\n",
       "      <th>Total Claim Amount</th>\n",
       "    </tr>\n",
       "  </thead>\n",
       "  <tbody>\n",
       "    <tr>\n",
       "      <th>count</th>\n",
       "      <td>1.068000e+03</td>\n",
       "      <td>1071.000000</td>\n",
       "      <td>1071.000000</td>\n",
       "      <td>1071.000000</td>\n",
       "    </tr>\n",
       "    <tr>\n",
       "      <th>mean</th>\n",
       "      <td>7.936903e+05</td>\n",
       "      <td>39295.701214</td>\n",
       "      <td>193.234360</td>\n",
       "      <td>404.986909</td>\n",
       "    </tr>\n",
       "    <tr>\n",
       "      <th>std</th>\n",
       "      <td>6.434784e+05</td>\n",
       "      <td>30469.427060</td>\n",
       "      <td>1601.190369</td>\n",
       "      <td>293.027260</td>\n",
       "    </tr>\n",
       "    <tr>\n",
       "      <th>min</th>\n",
       "      <td>2.004351e+05</td>\n",
       "      <td>0.000000</td>\n",
       "      <td>61.000000</td>\n",
       "      <td>0.382107</td>\n",
       "    </tr>\n",
       "    <tr>\n",
       "      <th>25%</th>\n",
       "      <td>4.034080e+05</td>\n",
       "      <td>14072.000000</td>\n",
       "      <td>68.000000</td>\n",
       "      <td>202.157702</td>\n",
       "    </tr>\n",
       "    <tr>\n",
       "      <th>50%</th>\n",
       "      <td>5.881742e+05</td>\n",
       "      <td>36234.000000</td>\n",
       "      <td>83.000000</td>\n",
       "      <td>354.729129</td>\n",
       "    </tr>\n",
       "    <tr>\n",
       "      <th>75%</th>\n",
       "      <td>8.962872e+05</td>\n",
       "      <td>64631.000000</td>\n",
       "      <td>109.500000</td>\n",
       "      <td>532.800000</td>\n",
       "    </tr>\n",
       "    <tr>\n",
       "      <th>max</th>\n",
       "      <td>5.816655e+06</td>\n",
       "      <td>99960.000000</td>\n",
       "      <td>35354.000000</td>\n",
       "      <td>2893.239678</td>\n",
       "    </tr>\n",
       "  </tbody>\n",
       "</table>\n",
       "</div>"
      ],
      "text/plain": [
       "       Customer Lifetime Value        Income  Monthly Premium Auto  \\\n",
       "count             1.068000e+03   1071.000000           1071.000000   \n",
       "mean              7.936903e+05  39295.701214            193.234360   \n",
       "std               6.434784e+05  30469.427060           1601.190369   \n",
       "min               2.004351e+05      0.000000             61.000000   \n",
       "25%               4.034080e+05  14072.000000             68.000000   \n",
       "50%               5.881742e+05  36234.000000             83.000000   \n",
       "75%               8.962872e+05  64631.000000            109.500000   \n",
       "max               5.816655e+06  99960.000000          35354.000000   \n",
       "\n",
       "       Total Claim Amount  \n",
       "count         1071.000000  \n",
       "mean           404.986909  \n",
       "std            293.027260  \n",
       "min              0.382107  \n",
       "25%            202.157702  \n",
       "50%            354.729129  \n",
       "75%            532.800000  \n",
       "max           2893.239678  "
      ]
     },
     "execution_count": 31,
     "metadata": {},
     "output_type": "execute_result"
    }
   ],
   "source": [
    "#Numerical variants and visualize them to define ordinal/nominal variables\n",
    "numerical_variables = [\"Customer Lifetime Value\",\"Income\",\"Monthly Premium Auto\",\"Number of Open Complaints\", \"Total Claim Amount\"]\n",
    "print(\"Numerical variables SHOULD BE: \\nCustomer Lifetime Value,\\nIncome,\\nMonthly Premium Auto,\\nNumber of Open Complaints,\\nTotal Claim Amount\")\n",
    "print(\"\\nGOOD numerical variants for the moment: Income, Monthly Premium Auto,Total Claim Amount \")\n",
    "#Summary statistics\n",
    "df_insurance.describe()\n"
   ]
  },
  {
   "cell_type": "code",
   "execution_count": 32,
   "id": "56757cb2",
   "metadata": {},
   "outputs": [
    {
     "name": "stdout",
     "output_type": "stream",
     "text": [
      "Customer Lifetime Value column-There are wrong stored in %\n",
      "Income column-There are people with NO income, should be fixed data...\n",
      "Monthly Premium Auto-There are some outliers like MAX value = 35354!\n",
      "Total Claim Amount column-Could have some outliers like MIN value =0.35\n"
     ]
    }
   ],
   "source": [
    "#Insights fron numerical columns\n",
    "print(\"Customer Lifetime Value column-There are wrong stored in %\")\n",
    "print(\"Income column-There are people with NO income, should be fixed data...\")\n",
    "print(\"Monthly Premium Auto-There are some outliers like MAX value = 35354!\")\n",
    "print(\"Total Claim Amount column-Could have some outliers like MIN value =0.35\")"
   ]
  },
  {
   "cell_type": "code",
   "execution_count": 33,
   "id": "2bcad99c",
   "metadata": {},
   "outputs": [
    {
     "name": "stdout",
     "output_type": "stream",
     "text": [
      "\n",
      "ST:\n",
      "\n",
      "count       1071\n",
      "unique         8\n",
      "top       Oregon\n",
      "freq         320\n",
      "Name: ST, dtype: object\n",
      "\n",
      "GENDER:\n",
      "\n",
      "count     954\n",
      "unique      5\n",
      "top         F\n",
      "freq      457\n",
      "Name: GENDER, dtype: object\n",
      "\n",
      "Education:\n",
      "\n",
      "count         1071\n",
      "unique           6\n",
      "top       Bachelor\n",
      "freq           324\n",
      "Name: Education, dtype: object\n",
      "\n",
      "Policy Type:\n",
      "\n",
      "count              1071\n",
      "unique                3\n",
      "top       Personal Auto\n",
      "freq                780\n",
      "Name: Policy Type, dtype: object\n",
      "\n",
      "Vehicle Class:\n",
      "\n",
      "count              1071\n",
      "unique                6\n",
      "top       Four-Door Car\n",
      "freq                576\n",
      "Name: Vehicle Class, dtype: object\n"
     ]
    }
   ],
   "source": [
    "#Categorical statistics\n",
    "for column in Categorical_variables :\n",
    "    print(f\"\\n{column}:\\n\\n{df_insurance[column].describe()}\")"
   ]
  },
  {
   "cell_type": "code",
   "execution_count": 34,
   "id": "ccff8a4a",
   "metadata": {},
   "outputs": [
    {
     "name": "stdout",
     "output_type": "stream",
     "text": [
      "ST column- Oregon is the most frequent state, but careful with the NO standarization\n",
      "GENDER column- femenine gender represents more or less the half of the values, but also we should keep an eye on standarization \n",
      "Education colum-Most of them have a bachelor degree, also keep an eye and do standarization to reduce to 4 values?¿ Difference between college and bachelor?¿\n",
      "Policy Type column-Only possible 3 values, most of the people hace the insurance for personal auto (f=780)\n",
      "Vehicle Class column-Quite consistency the data and values,half of the people have four-door assurances\n"
     ]
    }
   ],
   "source": [
    "#Insights from categorical columns\n",
    "print(\"ST column- Oregon is the most frequent state, but careful with the NO standarization\")\n",
    "print(\"GENDER column- femenine gender represents more or less the half of the values, but also we should keep an eye on standarization \")\n",
    "print(\"Education colum-Most of them have a bachelor degree, also keep an eye and do standarization to reduce to 4 values?¿ Difference between college and bachelor?¿\")\n",
    "print(\"Policy Type column-Only possible 3 values, most of the people hace the insurance for personal auto (f=780)\")\n",
    "print(\"Vehicle Class column-Quite consistency the data and values,half of the people have four-door assurances\")"
   ]
  },
  {
   "cell_type": "markdown",
   "id": "4a703890-63db-4944-b7ab-95a4f8185120",
   "metadata": {},
   "source": [
    "## Challenge 2: analyzing the data"
   ]
  },
  {
   "cell_type": "markdown",
   "id": "0776a403-c56a-452f-ac33-5fd4fdb06fc7",
   "metadata": {},
   "source": [
    "### Exercise 1"
   ]
  },
  {
   "cell_type": "markdown",
   "id": "eedbc484-da4d-4f9c-9343-e1d44311a87e",
   "metadata": {},
   "source": [
    "The marketing team wants to know the top 5 less common customer locations. Create a pandas Series object that contains the customer locations and their frequencies, and then retrieve the top 5 less common locations in ascending order."
   ]
  },
  {
   "cell_type": "code",
   "execution_count": 35,
   "id": "2dca5073-4520-4f42-9390-4b92733284ed",
   "metadata": {},
   "outputs": [
    {
     "name": "stdout",
     "output_type": "stream",
     "text": [
      "\n",
      " ST\n",
      "Oregon        320\n",
      "California    211\n",
      "Arizona       186\n",
      "Cali          120\n",
      "Nevada         98\n",
      "Washington     81\n",
      "WA             30\n",
      "AZ             25\n",
      "Name: count, dtype: int64\n"
     ]
    }
   ],
   "source": [
    "# Obtaining frequencies of locations\n",
    "frequencies_location = df_insurance['ST'].value_counts()\n",
    "print(f\"\\n {frequencies_location}\")"
   ]
  },
  {
   "cell_type": "code",
   "execution_count": 36,
   "id": "326fb309",
   "metadata": {},
   "outputs": [
    {
     "name": "stdout",
     "output_type": "stream",
     "text": [
      "ST\n",
      "AZ             25\n",
      "WA             30\n",
      "Washington     81\n",
      "Nevada         98\n",
      "Cali          120\n",
      "Arizona       186\n",
      "California    211\n",
      "Oregon        320\n",
      "Name: count, dtype: int64\n"
     ]
    }
   ],
   "source": [
    "#Sorting values \n",
    "less_common_locations=frequencies_location.sort_values()\n",
    "print (less_common_locations)"
   ]
  },
  {
   "cell_type": "code",
   "execution_count": 37,
   "id": "596977d3",
   "metadata": {},
   "outputs": [
    {
     "name": "stdout",
     "output_type": "stream",
     "text": [
      "ST\n",
      "California    331\n",
      "Oregon        320\n",
      "Arizona       211\n",
      "Washington    111\n",
      "Nevada         98\n",
      "Name: count, dtype: int64\n"
     ]
    }
   ],
   "source": [
    "#Standarize States for getting the right info\n",
    "df_insurance['ST'] = df_insurance['ST'].replace(['Cali'], 'California') \n",
    "df_insurance['ST'] = df_insurance['ST'].replace(['AZ'], 'Arizona') \n",
    "df_insurance['ST'] = df_insurance['ST'].replace(['WA'], 'Washington')\n",
    "\n",
    "frequencies_location = df_insurance['ST'].value_counts()\n",
    "\n",
    "print(f\"{frequencies_location}\")"
   ]
  },
  {
   "cell_type": "code",
   "execution_count": 38,
   "id": "13f456c3",
   "metadata": {},
   "outputs": [
    {
     "name": "stdout",
     "output_type": "stream",
     "text": [
      "ST\n",
      "Nevada         98\n",
      "Washington    111\n",
      "Arizona       211\n",
      "Oregon        320\n",
      "California    331\n",
      "Name: count, dtype: int64\n"
     ]
    }
   ],
   "source": [
    "#Sorting values \n",
    "less_common_locations=frequencies_location.sort_values()\n",
    "print (less_common_locations)"
   ]
  },
  {
   "cell_type": "markdown",
   "id": "0ce80f43-4afa-43c7-a78a-c917444da4e0",
   "metadata": {},
   "source": [
    "### Exercise 2\n",
    "\n",
    "The sales team wants to know the total number of policies sold for each type of policy. Create a pandas Series object that contains the policy types and their total number of policies sold, and then retrieve the policy type with the highest number of policies sold."
   ]
  },
  {
   "cell_type": "markdown",
   "id": "a9f13997-1555-4f98-aca6-970fda1d2c3f",
   "metadata": {},
   "source": [
    "*Hint:*\n",
    "- *Using value_counts() method simplifies this analysis.*\n",
    "- *Futhermore, there is a method that returns the index of the maximum value in a column or row.*\n"
   ]
  },
  {
   "cell_type": "code",
   "execution_count": 46,
   "id": "bcfad6c1-9af2-4b0b-9aa9-0dc5c17473c0",
   "metadata": {},
   "outputs": [
    {
     "name": "stdout",
     "output_type": "stream",
     "text": [
      "\n",
      " Policy Type\n",
      "Personal Auto     780\n",
      "Corporate Auto    234\n",
      "Special Auto       57\n",
      "Name: count, dtype: int64\n",
      "\n",
      "The policy type with the highest number of policies sold is: Personal Auto\n"
     ]
    }
   ],
   "source": [
    "# Obtaining frequencies of policies\n",
    "frequencies_policy_type = df_insurance['Policy Type'].value_counts()\n",
    "print(f\"\\n {frequencies_policy_type}\")\n",
    "\n",
    "#Obtaining maximum value\n",
    "most_sold_policy_type=frequencies_policy_type.idxmax()\n",
    "print(\"\\nThe policy type with the highest number of policies sold is:\", most_sold_policy_type)"
   ]
  },
  {
   "cell_type": "markdown",
   "id": "0b863fd3-bf91-4d5d-86eb-be29ed9f5b70",
   "metadata": {},
   "source": [
    "### Exercise 3\n",
    "\n",
    "The sales team wants to know if customers with Personal Auto have a lower income than those with Corporate Auto. How does the average income compare between the two policy types?"
   ]
  },
  {
   "cell_type": "markdown",
   "id": "b1386d75-2810-4aa1-93e0-9485aa12d552",
   "metadata": {},
   "source": [
    "- Use *loc* to create two dataframes: one containing only Personal Auto policies and one containing only Corporate Auto policies.\n",
    "- Calculate the average income for each policy.\n",
    "- Print the results."
   ]
  },
  {
   "cell_type": "code",
   "execution_count": 48,
   "id": "0c0563cf-6f8b-463d-a321-651a972f82e5",
   "metadata": {},
   "outputs": [
    {
     "name": "stdout",
     "output_type": "stream",
     "text": [
      "Average Income for Personal Auto policies: 38180.70\n",
      "Average Income for Corporate Auto policies: 41390.31\n"
     ]
    }
   ],
   "source": [
    "# Create two different dataframes with .loc\n",
    "df_personal_auto_customers=df_insurance.loc[df_insurance[\"Policy Type\"]==\"Personal Auto\"]\n",
    "df_corporate_auto_customers=df_insurance.loc[df_insurance[\"Policy Type\"]==\"Corporate Auto\"]\n",
    "\n",
    "#Average Income each policy type\n",
    "avg_income_personal_auto_customers=df_personal_auto_customers[\"Income\"].mean()\n",
    "avg_income_corporate_auto_customers=df_corporate_auto_customers[\"Income\"].mean()\n",
    "\n",
    "#Print values\n",
    "print(f\"Average Income for Personal Auto policies: {avg_income_personal_auto_customers:.2f}\")\n",
    "print(f\"Average Income for Corporate Auto policies: {avg_income_corporate_auto_customers:.2f}\")"
   ]
  },
  {
   "cell_type": "markdown",
   "id": "80b16c27-f4a5-4727-a229-1f88671cf4e2",
   "metadata": {},
   "source": [
    "### Bonus: Exercise 4\n"
   ]
  },
  {
   "cell_type": "markdown",
   "id": "ac584986-299b-475f-ac2e-928c16c3f512",
   "metadata": {},
   "source": [
    "Your goal is to identify customers with a high policy claim amount.\n",
    "\n",
    "Instructions:\n",
    "\n",
    "- Review again the statistics for total claim amount to gain an understanding of the data.\n",
    "- To identify potential areas for improving customer retention and profitability, we want to focus on customers with a high policy claim amount. Consider customers with a high policy claim amount to be those in the top 25% of the total claim amount. Create a pandas DataFrame object that contains information about customers with a policy claim amount greater than the 75th percentile.\n",
    "- Use DataFrame methods to calculate summary statistics about the high policy claim amount data. "
   ]
  },
  {
   "cell_type": "markdown",
   "id": "4e3af5f1-6023-4b05-9c01-d05392daa650",
   "metadata": {},
   "source": [
    "*Note: When analyzing data, we often want to focus on certain groups of values to gain insights. Percentiles are a useful tool to help us define these groups. A percentile is a measure that tells us what percentage of values in a dataset are below a certain value. For example, the 75th percentile represents the value below which 75% of the data falls. Similarly, the 25th percentile represents the value below which 25% of the data falls. When we talk about the top 25%, we are referring to the values that fall above the 75th percentile, which represent the top quarter of the data. On the other hand, when we talk about the bottom 25%, we are referring to the values that fall below the 25th percentile, which represent the bottom quarter of the data. By focusing on these groups, we can identify patterns and trends that may be useful for making decisions and taking action.*\n",
    "\n",
    "*Hint: look for a method that gives you the percentile or quantile 0.75 and 0.25 for a Pandas Series.*"
   ]
  },
  {
   "cell_type": "markdown",
   "id": "2d234634-50bd-41e0-88f7-d5ba684455d1",
   "metadata": {},
   "source": [
    "*Hint 2: check `Boolean selection according to the values of a single column` in https://towardsdatascience.com/filtering-data-frames-in-pandas-b570b1f834b9*"
   ]
  },
  {
   "cell_type": "code",
   "execution_count": 50,
   "id": "b731bca6-a760-4860-a27b-a33efa712ce0",
   "metadata": {},
   "outputs": [
    {
     "name": "stdout",
     "output_type": "stream",
     "text": [
      "Summary statistics for Total Claim Amount:\n",
      "count    1071.000000\n",
      "mean      404.986909\n",
      "std       293.027260\n",
      "min         0.382107\n",
      "25%       202.157702\n",
      "50%       354.729129\n",
      "75%       532.800000\n",
      "max      2893.239678\n",
      "Name: Total Claim Amount, dtype: float64\n"
     ]
    }
   ],
   "source": [
    "# Review statistics for total claim amount\n",
    "print(\"Summary statistics for Total Claim Amount:\")\n",
    "print(df_insurance[\"Total Claim Amount\"].describe())\n"
   ]
  },
  {
   "cell_type": "code",
   "execution_count": 52,
   "id": "d004fec6",
   "metadata": {},
   "outputs": [
    {
     "name": "stdout",
     "output_type": "stream",
     "text": [
      "Start of the top 25% Total Claim Amounts: 532.8\n"
     ]
    }
   ],
   "source": [
    "#Get the percentile Q3\n",
    "percentile_Q3=df_insurance[\"Total Claim Amount\"].quantile(0.75)\n",
    "print(f\"Start of the top 25% Total Claim Amounts: {percentile_Q3}\")\n"
   ]
  },
  {
   "cell_type": "code",
   "execution_count": 54,
   "id": "abcf0f4f",
   "metadata": {},
   "outputs": [
    {
     "name": "stdout",
     "output_type": "stream",
     "text": [
      "     Customer          ST GENDER Education  Customer Lifetime Value   Income  \\\n",
      "1     QZ44356     Arizona      F  Bachelor                697953.59      0.0   \n",
      "2     AI49188      Nevada      F  Bachelor               1288743.17  48767.0   \n",
      "17    OE15005  California    NaN   College                394524.16  28855.0   \n",
      "23    TZ98966      Nevada    NaN  Bachelor                245019.10      0.0   \n",
      "26    US89481  California    NaN  Bachelor                394637.21      0.0   \n",
      "...       ...         ...    ...       ...                      ...      ...   \n",
      "1059  YG44474      Oregon      M   College               1401472.13  54193.0   \n",
      "1061  RY92647  California      F  Bachelor               1050677.17      0.0   \n",
      "1068  GS98873     Arizona      F  Bachelor                323912.47  16061.0   \n",
      "1069  CW49887  California      F    Master                462680.11  79487.0   \n",
      "1070  MY31220  California      F   College                899704.02  54230.0   \n",
      "\n",
      "      Monthly Premium Auto Number of Open Complaints     Policy Type  \\\n",
      "1                     94.0                    1/0/00   Personal Auto   \n",
      "2                    108.0                    1/0/00   Personal Auto   \n",
      "17                   101.0                    1/0/00   Personal Auto   \n",
      "23                    73.0                    1/3/00  Corporate Auto   \n",
      "26                   111.0                    1/0/00   Personal Auto   \n",
      "...                    ...                       ...             ...   \n",
      "1059                 117.0                    1/0/00  Corporate Auto   \n",
      "1061                  92.0                    1/0/00   Personal Auto   \n",
      "1068                  88.0                    1/0/00   Personal Auto   \n",
      "1069                 114.0                    1/0/00    Special Auto   \n",
      "1070                 112.0                    1/0/00   Personal Auto   \n",
      "\n",
      "      Vehicle Class  Total Claim Amount  \n",
      "1     Four-Door Car         1131.464935  \n",
      "2      Two-Door Car          566.472247  \n",
      "17              SUV          647.442031  \n",
      "23    Four-Door Car          554.376763  \n",
      "26    Four-Door Car          799.200000  \n",
      "...             ...                 ...  \n",
      "1059            SUV          720.752945  \n",
      "1061  Four-Door Car          546.524896  \n",
      "1068  Four-Door Car          633.600000  \n",
      "1069            SUV          547.200000  \n",
      "1070   Two-Door Car          537.600000  \n",
      "\n",
      "[264 rows x 11 columns]\n"
     ]
    }
   ],
   "source": [
    "#Boolean selection to filter df\n",
    "df_high_policy_claim_amount=df_insurance[df_insurance[\"Total Claim Amount\"] > percentile_Q3]"
   ]
  },
  {
   "cell_type": "code",
   "execution_count": 57,
   "id": "8f3e25a4",
   "metadata": {},
   "outputs": [
    {
     "data": {
      "text/html": [
       "<div>\n",
       "<style scoped>\n",
       "    .dataframe tbody tr th:only-of-type {\n",
       "        vertical-align: middle;\n",
       "    }\n",
       "\n",
       "    .dataframe tbody tr th {\n",
       "        vertical-align: top;\n",
       "    }\n",
       "\n",
       "    .dataframe thead th {\n",
       "        text-align: right;\n",
       "    }\n",
       "</style>\n",
       "<table border=\"1\" class=\"dataframe\">\n",
       "  <thead>\n",
       "    <tr style=\"text-align: right;\">\n",
       "      <th></th>\n",
       "      <th>Customer Lifetime Value</th>\n",
       "      <th>Income</th>\n",
       "      <th>Monthly Premium Auto</th>\n",
       "      <th>Total Claim Amount</th>\n",
       "    </tr>\n",
       "  </thead>\n",
       "  <tbody>\n",
       "    <tr>\n",
       "      <th>count</th>\n",
       "      <td>2.640000e+02</td>\n",
       "      <td>264.000000</td>\n",
       "      <td>264.000000</td>\n",
       "      <td>264.000000</td>\n",
       "    </tr>\n",
       "    <tr>\n",
       "      <th>mean</th>\n",
       "      <td>9.086868e+05</td>\n",
       "      <td>23677.344697</td>\n",
       "      <td>165.193182</td>\n",
       "      <td>782.228263</td>\n",
       "    </tr>\n",
       "    <tr>\n",
       "      <th>std</th>\n",
       "      <td>6.387678e+05</td>\n",
       "      <td>27013.483721</td>\n",
       "      <td>623.930992</td>\n",
       "      <td>292.751640</td>\n",
       "    </tr>\n",
       "    <tr>\n",
       "      <th>min</th>\n",
       "      <td>2.287597e+05</td>\n",
       "      <td>0.000000</td>\n",
       "      <td>63.000000</td>\n",
       "      <td>537.600000</td>\n",
       "    </tr>\n",
       "    <tr>\n",
       "      <th>25%</th>\n",
       "      <td>4.723958e+05</td>\n",
       "      <td>0.000000</td>\n",
       "      <td>99.000000</td>\n",
       "      <td>606.521741</td>\n",
       "    </tr>\n",
       "    <tr>\n",
       "      <th>50%</th>\n",
       "      <td>7.781768e+05</td>\n",
       "      <td>18807.000000</td>\n",
       "      <td>114.000000</td>\n",
       "      <td>679.597985</td>\n",
       "    </tr>\n",
       "    <tr>\n",
       "      <th>75%</th>\n",
       "      <td>1.054430e+06</td>\n",
       "      <td>42423.750000</td>\n",
       "      <td>133.250000</td>\n",
       "      <td>851.400000</td>\n",
       "    </tr>\n",
       "    <tr>\n",
       "      <th>max</th>\n",
       "      <td>3.844586e+06</td>\n",
       "      <td>99316.000000</td>\n",
       "      <td>10202.000000</td>\n",
       "      <td>2893.239678</td>\n",
       "    </tr>\n",
       "  </tbody>\n",
       "</table>\n",
       "</div>"
      ],
      "text/plain": [
       "       Customer Lifetime Value        Income  Monthly Premium Auto  \\\n",
       "count             2.640000e+02    264.000000            264.000000   \n",
       "mean              9.086868e+05  23677.344697            165.193182   \n",
       "std               6.387678e+05  27013.483721            623.930992   \n",
       "min               2.287597e+05      0.000000             63.000000   \n",
       "25%               4.723958e+05      0.000000             99.000000   \n",
       "50%               7.781768e+05  18807.000000            114.000000   \n",
       "75%               1.054430e+06  42423.750000            133.250000   \n",
       "max               3.844586e+06  99316.000000          10202.000000   \n",
       "\n",
       "       Total Claim Amount  \n",
       "count          264.000000  \n",
       "mean           782.228263  \n",
       "std            292.751640  \n",
       "min            537.600000  \n",
       "25%            606.521741  \n",
       "50%            679.597985  \n",
       "75%            851.400000  \n",
       "max           2893.239678  "
      ]
     },
     "execution_count": 57,
     "metadata": {},
     "output_type": "execute_result"
    }
   ],
   "source": [
    "#Summary statics\n",
    "numeric_columns = df_high_policy_claim_amount.select_dtypes(include='number')\n",
    "object_columns = df_high_policy_claim_amount.select_dtypes(include='object')\n",
    "\n",
    "print(\"\\nSummary statistics for high policy claim amounts in numerical columns:\")\n",
    "df_high_policy_claim_amount.describe()"
   ]
  },
  {
   "cell_type": "code",
   "execution_count": 61,
   "id": "2f360325",
   "metadata": {},
   "outputs": [
    {
     "name": "stdout",
     "output_type": "stream",
     "text": [
      "Summary statistics for high policy claim amounts in  categorical columns:\n",
      "\n",
      "ST:\n",
      "\n",
      "count        264\n",
      "unique         5\n",
      "top       Oregon\n",
      "freq          90\n",
      "Name: ST, dtype: object\n",
      "\n",
      "GENDER:\n",
      "\n",
      "count     238\n",
      "unique      5\n",
      "top         F\n",
      "freq      115\n",
      "Name: GENDER, dtype: object\n",
      "\n",
      "Education:\n",
      "\n",
      "count          264\n",
      "unique           5\n",
      "top       Bachelor\n",
      "freq            85\n",
      "Name: Education, dtype: object\n",
      "\n",
      "Number of Open Complaints:\n",
      "\n",
      "count        264\n",
      "unique         6\n",
      "top       1/0/00\n",
      "freq         206\n",
      "Name: Number of Open Complaints, dtype: object\n",
      "\n",
      "Policy Type:\n",
      "\n",
      "count               264\n",
      "unique                3\n",
      "top       Personal Auto\n",
      "freq                191\n",
      "Name: Policy Type, dtype: object\n",
      "\n",
      "Vehicle Class:\n",
      "\n",
      "count     264\n",
      "unique      6\n",
      "top       SUV\n",
      "freq      101\n",
      "Name: Vehicle Class, dtype: object\n"
     ]
    }
   ],
   "source": [
    "#Categorical statistics\n",
    "print(\"Summary statistics for high policy claim amounts in  categorical columns:\")\n",
    "for column in object_columns :\n",
    "    print(f\"\\n{column}:\\n\\n{df_high_policy_claim_amount[column].describe()}\")"
   ]
  },
  {
   "cell_type": "code",
   "execution_count": null,
   "id": "181870f8",
   "metadata": {},
   "outputs": [],
   "source": []
  }
 ],
 "metadata": {
  "kernelspec": {
   "display_name": "base",
   "language": "python",
   "name": "python3"
  },
  "language_info": {
   "codemirror_mode": {
    "name": "ipython",
    "version": 3
   },
   "file_extension": ".py",
   "mimetype": "text/x-python",
   "name": "python",
   "nbconvert_exporter": "python",
   "pygments_lexer": "ipython3",
   "version": "3.12.4"
  }
 },
 "nbformat": 4,
 "nbformat_minor": 5
}
